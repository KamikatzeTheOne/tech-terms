{
 "cells": [
  {
   "cell_type": "code",
   "execution_count": 3,
   "metadata": {
    "autoscroll": false,
    "collapsed": false,
    "ein.hycell": false,
    "ein.tags": "worksheet-0",
    "slideshow": {
     "slide_type": "-"
    }
   },
   "outputs": [],
   "source": [
    "import genanki"
   ]
  },
  {
   "cell_type": "markdown",
   "metadata": {
    "ein.tags": "worksheet-0",
    "slideshow": {
     "slide_type": "-"
    }
   },
   "source": [
    "[Following Steps on the genanki github](https://github.com/kerrickstaley/genanki)"
   ]
  },
  {
   "cell_type": "code",
   "execution_count": 5,
   "metadata": {
    "autoscroll": false,
    "collapsed": false,
    "ein.hycell": false,
    "ein.tags": "worksheet-0",
    "slideshow": {
     "slide_type": "-"
    }
   },
   "outputs": [],
   "source": [
    "my_model = genanki.Model(\n",
    "  1607392319,\n",
    "  'Simple Model',\n",
    "  fields=[\n",
    "    {'name': 'Question'},\n",
    "    {'name': 'Answer'},\n",
    "  ],\n",
    "  templates=[\n",
    "    {\n",
    "      'name': 'Card 1',\n",
    "      'qfmt': '{{Question}}',\n",
    "      'afmt': '{{FrontSide}}<hr id=\"answer\">{{Answer}}',\n",
    "    },\n",
    "  ])"
   ]
  },
  {
   "cell_type": "code",
   "execution_count": 6,
   "metadata": {
    "autoscroll": false,
    "collapsed": false,
    "ein.hycell": false,
    "ein.tags": "worksheet-0",
    "slideshow": {
     "slide_type": "-"
    }
   },
   "outputs": [],
   "source": [
    "my_note = genanki.Note(\n",
    "  model=my_model,\n",
    "  fields=['Capital of Argentina', 'Buenos Aires'])"
   ]
  },
  {
   "cell_type": "code",
   "execution_count": 7,
   "metadata": {
    "autoscroll": false,
    "collapsed": false,
    "ein.hycell": false,
    "ein.tags": "worksheet-0",
    "slideshow": {
     "slide_type": "-"
    }
   },
   "outputs": [],
   "source": [
    "my_deck = genanki.Deck(2059400110, 'Country Capitals')\n",
    "my_deck.add_note(my_note)\n"
   ]
  },
  {
   "cell_type": "code",
   "execution_count": 8,
   "metadata": {
    "autoscroll": false,
    "collapsed": false,
    "ein.hycell": false,
    "ein.tags": "worksheet-0",
    "slideshow": {
     "slide_type": "-"
    }
   },
   "outputs": [],
   "source": [
    "genanki.Package(my_deck).write_to_file('output.apkg')"
   ]
  },
  {
   "cell_type": "markdown",
   "metadata": {
    "ein.tags": "worksheet-0",
    "slideshow": {
     "slide_type": "-"
    }
   },
   "source": [
    "OK COOL. **The above works**\n",
    "First we will need a way to create random integers to use for ids. I don't really know what the max is so lets just do a value between 0 and twice the one used above"
   ]
  },
  {
   "cell_type": "code",
   "execution_count": 18,
   "metadata": {
    "autoscroll": false,
    "collapsed": false,
    "ein.hycell": false,
    "ein.tags": "worksheet-0",
    "slideshow": {
     "slide_type": "-"
    }
   },
   "outputs": [
    {
     "data": {
      "text/plain": [
       "505739646"
      ]
     },
     "execution_count": 18,
     "metadata": {},
     "output_type": "execute_result"
    }
   ],
   "source": [
    "import random\n",
    "random.randint(0, 2059400110)"
   ]
  },
  {
   "cell_type": "markdown",
   "metadata": {
    "ein.tags": "worksheet-0",
    "slideshow": {
     "slide_type": "-"
    }
   },
   "source": [
    "Them we will generate a deck for our terms, read them in, and as we do we create notes. Then we add them to the deck"
   ]
  },
  {
   "cell_type": "code",
   "execution_count": 17,
   "metadata": {
    "autoscroll": false,
    "collapsed": false,
    "ein.hycell": false,
    "ein.tags": "worksheet-0",
    "slideshow": {
     "slide_type": "-"
    }
   },
   "outputs": [],
   "source": [
    "import re \n",
    "\n",
    "terms_deck = genanki.Deck(1824707089, 'Tech Terms')\n",
    "\n",
    "two_col_org_row = re.compile('^\\\\s*\\\\|\\\\s*(.*?)\\\\s*\\\\|\\\\s*(.*?)\\\\s*\\\\|\\\\s*$')\n",
    "with open(f'../terms.org', 'r') as file:\n",
    "    lines = file.read().splitlines()\n",
    "    extracted_cells = (two_col_org_row.match(l).groups() for l in lines)\n",
    "    term_definitions = (g for g in extracted_cells if len(g) == 2)\n",
    "\n",
    "    notes = (genanki.Note(model=my_model, fields=[term, definition]) for (term, definition) in term_definitions)\n",
    "    for note in notes:\n",
    "        terms_deck.add_note(note)\n",
    "\n",
    "genanki.Package(terms_deck).write_to_file('tech_terms.apkg')\n",
    "\n",
    "    \n",
    "\n"
   ]
  },
  {
   "cell_type": "code",
   "execution_count": null,
   "metadata": {
    "autoscroll": false,
    "collapsed": false,
    "ein.hycell": false,
    "ein.tags": "worksheet-0",
    "slideshow": {
     "slide_type": "-"
    }
   },
   "outputs": [],
   "source": []
  }
 ],
 "metadata": {
  "kernelspec": {
   "display_name": "tech-terms-generator",
   "name": "tech-terms-generator"
  },
  "name": "playground.ipynb"
 },
 "nbformat": 4,
 "nbformat_minor": 2
}
